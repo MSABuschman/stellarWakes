{
 "cells": [
  {
   "cell_type": "markdown",
   "metadata": {},
   "source": [
    "# Stellar Contrails: Plummer likelihood example\n",
    "\n",
    "In this example, we will use example stellar kinematic data in the `examples/data/` folder to illustrate how to use the Plummer likelihood function"
   ]
  },
  {
   "cell_type": "code",
   "execution_count": 44,
   "metadata": {
    "collapsed": false
   },
   "outputs": [
    {
     "name": "stdout",
     "output_type": "stream",
     "text": [
      "The autoreload extension is already loaded. To reload it, use:\n",
      "  %reload_ext autoreload\n"
     ]
    }
   ],
   "source": [
    "%matplotlib inline\n",
    "%load_ext autoreload\n",
    "%autoreload 2\n",
    "\n",
    "import sys,os\n",
    "import numpy as np\n",
    "import matplotlib.pyplot as plt\n",
    "from matplotlib import rc\n",
    "from matplotlib import rcParams\n",
    "rc('font', **{'family': 'serif', 'serif': ['Computer Modern']})\n",
    "rcParams['text.usetex'] = True\n",
    "rcParams['text.latex.unicode'] = True\n",
    "\n",
    "from stellarContrails import LL"
   ]
  },
  {
   "cell_type": "markdown",
   "metadata": {},
   "source": [
    "## Load data\n",
    "\n",
    "First, we load in the kinematic data."
   ]
  },
  {
   "cell_type": "code",
   "execution_count": null,
   "metadata": {
    "collapsed": true
   },
   "outputs": [],
   "source": [
    "null_data = np.loadtxt(\"data/null_data.txt\")\n",
    "subhalo_data = np.loadtxt(\"data/subhalo_data.txt\")"
   ]
  },
  {
   "cell_type": "markdown",
   "metadata": {},
   "source": [
    "The datasets above are constructed from a background distribution of stars within an ROI with the following properties:\n",
    "1.  ROI radius R = 0.2 kpc\n",
    "2.  Background velocity distribution a Maxwell-Boltzmann distribution with $v_0 = 220$ km/s.\n",
    "3.  Stellar number density $n_0 = 10^7$ kpc$^{-3}$\n",
    "\n",
    "**Null Data**\n",
    "1.  No subhalo present\n",
    "\n",
    "**Subhalo data**\n",
    "1.  Subhalo currently at the origin x,y,z = 0,0,0 kpc.\n",
    "2.  Subhalo velocity ${\\bf v} = 300 \\, \\text{km/sec} \\, {\\bf \\hat x}$\n",
    "\n",
    "**Data format**\n",
    "\n",
    "The data is a list of kinematic data, of the form $[x,y,z,v_x,v_y,v_z]$.  All positions are in kpc and velocities in km/sec.\n",
    "\n"
   ]
  },
  {
   "cell_type": "markdown",
   "metadata": {},
   "source": [
    "## Construct likelihood profiles as functions of $M_\\text{sh}$\n",
    "\n",
    "Now we will use the `stellarContrails.LL` package to construct likelihood profiles as function $M_\\text{sh}$"
   ]
  },
  {
   "cell_type": "code",
   "execution_count": null,
   "metadata": {
    "collapsed": false
   },
   "outputs": [],
   "source": [
    "# Fixed model parameters\n",
    "R = 0.2 #ROI radius in kpc\n",
    "ns = 1e7 #number density normalization parameter in kpc^{-3}\n",
    "v0 = 20 # velocity dispersion parameter of Maxwell-Boltzmann of background phase-space in km/s\n",
    "sub_halo_phase = np.array([0.0,0.0,0.0,300.0,0.0,0.0]) #sub-halo phase-space point [x,y,z,vx,vy,vz] in kpc and km/s"
   ]
  },
  {
   "cell_type": "code",
   "execution_count": null,
   "metadata": {
    "collapsed": true
   },
   "outputs": [],
   "source": [
    "def return_rs(M_sh):\n",
    "    '''Return the expected Plummer radius rs in kpc for subhalo mass M_sh in solar masses'''\n",
    "    rs = 1.62*(M_sh/10**8)**0.5\n",
    "    return rs"
   ]
  },
  {
   "cell_type": "code",
   "execution_count": null,
   "metadata": {
    "collapsed": false
   },
   "outputs": [],
   "source": [
    "##Make an array of Masses\n",
    "Msh_list = 10**np.linspace(4,7,100) #Mass list in solar masses\n",
    "rs_list = return_rs(Msh_list) #Plummer radius list in kpc\n",
    "\n",
    "LL_array_null = np.zeros(100) #List for log-likelihood values for data without subhalo\n",
    "LL_array_subhalo = np.zeros(100) #List for log-likelihood values for data with subhalo\n",
    "for i in range(100): #iterate through list and fill in log-likelihood values\n",
    "    LL_array_null[i] = LL.Plummer(null_data,sub_halo_phase,Msh_list[i],rs_list[i],v0,R,ns)\n",
    "    LL_array_subhalo[i] = LL.Plummer(subhalo_data,sub_halo_phase,Msh_list[i],rs_list[i],v0,R,ns)"
   ]
  },
  {
   "cell_type": "markdown",
   "metadata": {},
   "source": [
    "## Plot the likelihood profiles"
   ]
  },
  {
   "cell_type": "code",
   "execution_count": null,
   "metadata": {
    "collapsed": false
   },
   "outputs": [],
   "source": [
    "fig = plt.figure(figsize=(10,8))\n",
    "\n",
    "plt.plot(Msh_list,2*(LL_array_null-LL_array_null[0]),\"k--\",label=\"MC with subhalo\" )\n",
    "plt.plot(Msh_list,2*(LL_array_subhalo-LL_array_subhalo[0]),\"k-\",label = \"MC without subhalo\" )\n",
    "plt.axvline(2e6,color=\"blue\",linestyle=\"dotted\",label=\"simulated subhalo mass\")\n",
    "\n",
    "plt.xscale('log')\n",
    "plt.legend(fontsize=18)\n",
    "plt.xlabel(r'$M_{\\mathrm{sh}}$ [$M_\\odot$]',fontsize=18)\n",
    "plt.ylabel(r'$2 \\times \\delta \\big[ \\log p(d| \\mathcal{M}, {\\bf \\theta}) \\big]$',fontsize=18) #{\\mathcal{L}}\n",
    "\n",
    "plt.xticks(fontsize=18)\n",
    "plt.yticks(fontsize=18)\n",
    "\n",
    "plt.ylim([-25,25])"
   ]
  },
  {
   "cell_type": "code",
   "execution_count": null,
   "metadata": {
    "collapsed": true
   },
   "outputs": [],
   "source": []
  }
 ],
 "metadata": {
  "kernelspec": {
   "display_name": "Python 2",
   "language": "python",
   "name": "python2"
  },
  "language_info": {
   "codemirror_mode": {
    "name": "ipython",
    "version": 2
   },
   "file_extension": ".py",
   "mimetype": "text/x-python",
   "name": "python",
   "nbconvert_exporter": "python",
   "pygments_lexer": "ipython2",
   "version": "2.7.10"
  }
 },
 "nbformat": 4,
 "nbformat_minor": 2
}
